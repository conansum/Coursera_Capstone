{
 "cells": [
  {
   "cell_type": "markdown",
   "metadata": {},
   "source": [
    "## Problem definition:\n",
    "In this project, I will use a traffic dataset to build a map showing the traffic condition in New York City at different hours during the day. The main purpose of the project is to give users an insight as to which hours during the day are peak hours, and which area has the most traffic during these peak hours. This can help users navigate around the city avoiding high traffic areas during peak hours. The goal is to help reduce the traffic in a specific area and help reduce the travel time during peak hours.\n"
   ]
  },
  {
   "cell_type": "markdown",
   "metadata": {},
   "source": [
    "## Dataset decryption:\n",
    "This dataset is from the department of transportation, it contains data such as location, traffic count at each hour, and the date where the data was recorded. This project will utilize the FourSquare location data to create a map showing the traffic counts in a specific area during each hour of the day. Since the devices used to measure the traffic count of the streets will only cover a small area, the map will only show the traffic count where the device is placed. \n"
   ]
  },
  {
   "cell_type": "code",
   "execution_count": 1,
   "metadata": {},
   "outputs": [],
   "source": [
    "import numpy as np\n",
    "import pandas as pd"
   ]
  },
  {
   "cell_type": "code",
   "execution_count": null,
   "metadata": {},
   "outputs": [],
   "source": []
  }
 ],
 "metadata": {
  "kernelspec": {
   "display_name": "Python 3",
   "language": "python",
   "name": "python3"
  },
  "language_info": {
   "codemirror_mode": {
    "name": "ipython",
    "version": 3
   },
   "file_extension": ".py",
   "mimetype": "text/x-python",
   "name": "python",
   "nbconvert_exporter": "python",
   "pygments_lexer": "ipython3",
   "version": "3.7.4"
  }
 },
 "nbformat": 4,
 "nbformat_minor": 2
}
